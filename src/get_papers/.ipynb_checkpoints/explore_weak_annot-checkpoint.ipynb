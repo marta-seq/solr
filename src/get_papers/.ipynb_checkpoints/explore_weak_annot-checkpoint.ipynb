{
 "cells": [
  {
   "cell_type": "code",
   "execution_count": null,
   "id": "06157d9d",
   "metadata": {
    "collapsed": true
   },
   "outputs": [],
   "source": []
  },
  {
   "cell_type": "code",
   "execution_count": null,
   "id": "0e5e00f7",
   "metadata": {},
   "outputs": [],
   "source": [
    "import pandas as pd\n",
    "import json\n",
    "import os\n",
    "import logging\n",
    "from collections import Counter\n",
    "from datetime import datetime"
   ]
  },
  {
   "cell_type": "markdown",
   "id": "f4c427f8",
   "metadata": {},
   "source": [
    "grab weak annotation file "
   ]
  },
  {
   "cell_type": "code",
   "execution_count": null,
   "id": "3416c903",
   "metadata": {},
   "outputs": [],
   "source": [
    "BASE_DIR = \"../../data\"\n",
    "WEAK_ANNOTATION_POOL_FILE = os.path.join(BASE_DIR, \"weak_annotation_pool.jsonl\")\n",
    "\n",
    "\n",
    "def load_weak_annotations_to_dataframe(file_path: str) -> pd.DataFrame:\n",
    "    \"\"\"\n",
    "    Loads weak annotations from a .jsonl file into a Pandas DataFrame.\n",
    "    Normalizes the 'weak_annotations' nested field.\n",
    "    \"\"\"\n",
    "    data = []\n",
    "    if os.path.exists(file_path):\n",
    "        with open(file_path, 'r', encoding='utf-8') as f:\n",
    "            for line_num, line in enumerate(f, 1):\n",
    "                try:\n",
    "                    data.append(json.loads(line))\n",
    "                except json.JSONDecodeError:\n",
    "                    logger.warning(f\"Could not parse line in {file_path} at line {line_num}: {line.strip()}\")\n",
    "    else:\n",
    "        logger.error(f\"File not found: {file_path}\")\n",
    "        return pd.DataFrame() # Return an empty DataFrame\n",
    "\n",
    "    if not data:\n",
    "        logger.info(f\"No data found in {file_path}. Returning empty DataFrame.\")\n",
    "        return pd.DataFrame()\n",
    "\n",
    "    # Load the main data\n",
    "    df = pd.DataFrame(data)\n",
    "\n",
    "    # Normalize the 'weak_annotations' column if it exists\n",
    "    if 'weak_annotations' in df.columns:\n",
    "        # json_normalize flattens the nested dictionary into new columns, prefixed by 'weak_annotations.'\n",
    "        # If 'record_path' is specified, it flattens lists of dictionaries within the nested structure.\n",
    "        # Here, 'weak_annotations' is a dict, so we just pass it as data to normalize.\n",
    "        weak_anns_df = pd.json_normalize(df['weak_annotations'])\n",
    "\n",
    "        # Concatenate the flattened weak_annotations with the original DataFrame,\n",
    "        # dropping the original 'weak_annotations' column to avoid redundancy.\n",
    "        df = pd.concat([df.drop('weak_annotations', axis=1), weak_anns_df], axis=1)\n",
    "    return df\n",
    "\n",
    "df_annotations = load_weak_annotations_to_dataframe(WEAK_ANNOTATION_POOL_FILE)\n"
   ]
  },
  {
   "cell_type": "code",
   "execution_count": null,
   "id": "64fbbce2",
   "metadata": {},
   "outputs": [],
   "source": [
    "\n",
    "    if not df_annotations.empty:\n",
    "        # Display basic information\n",
    "        print(\"\\n--- DataFrame Info ---\")\n",
    "        df_annotations.info()\n",
    "\n",
    "        print(\"\\n--- First 5 rows ---\")\n",
    "        print(df_annotations.head())\n",
    "\n",
    "        print(\"\\n--- Basic Statistics (e.g., relevance and paper type counts) ---\")\n",
    "        print(\"\\nRelevance Score Counts:\")\n",
    "        print(df_annotations['relevance_score_llm'].value_counts())\n",
    "\n",
    "        print(\"\\nPaper Type Counts:\")\n",
    "        print(df_annotations['paper_type'].value_counts())\n",
    "\n",
    "        # Example: Filter for 'method' papers and see their methodology types\n",
    "        print(\"\\n--- Methodology Type Counts for 'method' papers ---\")\n",
    "        method_papers = df_annotations[df_annotations['paper_type'] == 'method']\n",
    "        if not method_papers.empty:\n",
    "            print(method_papers['methodology_type'].value_counts())\n",
    "        else:\n",
    "            print(\"No 'method' papers found.\")\n",
    "\n",
    "        # Example: Count occurrences of each data modality\n",
    "        print(\"\\n--- Data Modalities Counts ---\")\n",
    "        # For list columns, you need to \"explode\" them or use apply with Counter\n",
    "        all_modalities = Counter()\n",
    "        for modalities_list in df_annotations['data_modalities_used'].dropna():\n",
    "            all_modalities.update(modalities_list)\n",
    "        print(all_modalities.most_common(10)) # Top 10 most common modalities\n",
    "\n",
    "    logger.info(\"DataFrame exploration complete.\")\n",
    "    # --- How to \"explore it a little bit\" further: ---\n",
    "    # 1. Run this script in an interactive Python environment (like a Jupyter Notebook or Google Colab).\n",
    "    #    In such an environment, you can just run the cells, and then `df_annotations` will be available\n",
    "    #    for you to type commands like:\n",
    "    #    df_annotations.columns # See all column names\n",
    "    #    df_annotations[df_annotations['relevance_score_llm'] == 'highly_relevant'].head() # Filter and view\n",
    "    #    df_annotations.groupby('paper_type')['llm_model'].value_counts() # More complex grouping\n",
    "\n",
    "    # 2. Add more print statements or save the DataFrame:\n",
    "    #    If running as a standalone script, you can add more lines like:\n",
    "    #    print(\"\\n--- Papers marked as highly relevant ---\")\n",
    "    #    print(df_annotations[df_annotations['relevance_score_llm'] == 'highly_relevant'].to_string()) # to_string for full view\n",
    "\n",
    "    #    You can also save it to other formats for external exploration:\n",
    "\n",
    "    df_annotations.to_csv(os.path.join(BASE_DIR, \"weak_annotations_flat.csv\"), index=False)\n",
    "    # df_annotations.to_excel(os.path.join(BASE_DIR, \"weak_annotations_flat.xlsx\"), index=False)\n",
    "    logger.info(f\"DataFrame saved to {os.path.join(BASE_DIR, 'weak_annotations_flat.csv')}\")\n"
   ]
  },
  {
   "cell_type": "code",
   "execution_count": null,
   "id": "5c22aac3",
   "metadata": {},
   "outputs": [],
   "source": []
  }
 ],
 "metadata": {
  "kernelspec": {
   "display_name": "Python 3 (ipykernel)",
   "language": "python",
   "name": "python3"
  },
  "language_info": {
   "codemirror_mode": {
    "name": "ipython",
    "version": 2
   },
   "file_extension": ".py",
   "mimetype": "text/x-python",
   "name": "python",
   "nbconvert_exporter": "python",
   "pygments_lexer": "ipython2",
   "version": "2.7.6"
  }
 },
 "nbformat": 4,
 "nbformat_minor": 5
}
